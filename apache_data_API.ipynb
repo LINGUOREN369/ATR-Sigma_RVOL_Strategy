{
 "cells": [
  {
   "cell_type": "code",
   "execution_count": 7,
   "id": "73a07b3c",
   "metadata": {},
   "outputs": [],
   "source": [
    "import pandas as pd\n",
    "from alpha_vantage.timeseries import TimeSeries\n",
    "\n",
    "API_KEY = \"EPN8P1HRF11ZMKEV\"   # put your key here\n",
    "\n",
    "def fetch_alpha(symbol: str, interval: str = \"1min\", outputsize: str = \"full\") -> pd.DataFrame:\n",
    "    \"\"\"\n",
    "    Fetch intraday OHLCV data from Alpha Vantage.\n",
    "\n",
    "    Parameters\n",
    "    ----------\n",
    "    symbol : str\n",
    "        Stock ticker (e.g., \"AAPL\")\n",
    "    interval : str\n",
    "        Interval string: \"1min\", \"5min\", \"15min\", \"30min\", \"60min\"\n",
    "    outputsize : str\n",
    "        \"compact\" (last 100 points) or \"full\" (up to 30 days for intraday)\n",
    "\n",
    "    Returns\n",
    "    -------\n",
    "    pd.DataFrame\n",
    "        DataFrame with ['Open', 'High', 'Low', 'Close', 'Volume'], sorted by datetime.\n",
    "    \"\"\"\n",
    "    ts = TimeSeries(key=API_KEY, output_format=\"pandas\")\n",
    "\n",
    "    df, meta = ts.get_intraday(\n",
    "        symbol=symbol,\n",
    "        interval=interval,\n",
    "        outputsize=outputsize\n",
    "    )\n",
    "\n",
    "    # Rename columns to match your OHLCV format\n",
    "\n",
    "    # Convert index to datetime and sort\n",
    "    df.index = pd.to_datetime(df.index)\n",
    "    df = df.sort_index()\n",
    "\n",
    "    return df"
   ]
  },
  {
   "cell_type": "code",
   "execution_count": null,
   "id": "18af00dc",
   "metadata": {},
   "outputs": [
    {
     "name": "stdout",
     "output_type": "stream",
     "text": [
      "Saved: (20140, 5)\n"
     ]
    }
   ],
   "source": [
    "df = fetch_alpha(\"CRCL\", interval=\"1min\", outputsize=\"full\")\n",
    "df.to_csv(\"data/CRCL_min.csv\")\n",
    "print(\"Saved:\", df.shape)"
   ]
  },
  {
   "cell_type": "code",
   "execution_count": 9,
   "id": "abc463a2",
   "metadata": {},
   "outputs": [],
   "source": [
    "## write a one to fetch daily data using time_series_daily\n",
    "\n",
    "def fetch_daily_data(symbol: str, outputsize: str = \"full\") -> pd.DataFrame:\n",
    "    \"\"\"\n",
    "    Fetch daily OHLCV data from Alpha Vantage.\n",
    "\n",
    "    Parameters\n",
    "    ----------\n",
    "    symbol : str\n",
    "        Stock ticker (e.g., \"AAPL\")\n",
    "    outputsize : str\n",
    "        \"compact\" (last 100 points) or \"full\" (up to 30 days for intraday)\n",
    "\n",
    "    Returns\n",
    "    -------\n",
    "    pd.DataFrame\n",
    "        DataFrame with ['Open', 'High', 'Low', 'Close', 'Volume'], sorted by datetime.\n",
    "    \"\"\"\n",
    "    ts = TimeSeries(key=API_KEY, output_format=\"pandas\")\n",
    "\n",
    "    df, meta = ts.get_daily(\n",
    "        symbol=symbol,\n",
    "        outputsize=outputsize\n",
    "    )\n",
    "\n",
    "    # Rename columns to match your OHLCV format\n",
    "\n",
    "    # Convert index to datetime and sort\n",
    "    df.index = pd.to_datetime(df.index)\n",
    "    df = df.sort_index()\n",
    "\n",
    "    return df"
   ]
  },
  {
   "cell_type": "code",
   "execution_count": 10,
   "id": "6b3046b8",
   "metadata": {},
   "outputs": [
    {
     "name": "stdout",
     "output_type": "stream",
     "text": [
      "Saved: (52, 5)\n"
     ]
    }
   ],
   "source": [
    "daily_df = fetch_daily_data(\"CRCL\", outputsize=\"full\")\n",
    "daily_df.to_csv(\"data/CRCL_daily.csv\")\n",
    "print(\"Saved:\", daily_df.shape)"
   ]
  }
 ],
 "metadata": {
  "kernelspec": {
   "display_name": "py310",
   "language": "python",
   "name": "python3"
  },
  "language_info": {
   "codemirror_mode": {
    "name": "ipython",
    "version": 3
   },
   "file_extension": ".py",
   "mimetype": "text/x-python",
   "name": "python",
   "nbconvert_exporter": "python",
   "pygments_lexer": "ipython3",
   "version": "3.10.13"
  }
 },
 "nbformat": 4,
 "nbformat_minor": 5
}
