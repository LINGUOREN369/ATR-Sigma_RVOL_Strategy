{
 "cells": [
  {
   "cell_type": "code",
   "execution_count": 1,
   "id": "049799f7",
   "metadata": {},
   "outputs": [],
   "source": [
    "import pandas as pd\n",
    "import numpy as np\n",
    "import matplotlib.pyplot as plt\n",
    "import matplotlib.cm as cm\n",
    "import matplotlib.colors as mcolors\n",
    "import config\n",
    "\n",
    "from intraday_handler import (\n",
    "\tintraday_read_csv_correct_time,\n",
    "\tintraday_feature_trend,\n",
    "\tintraday_expected_cum_rvol,\n",
    "\tintraday_rvol\n",
    ")\n",
    "\n",
    "from intraday_viz import(\n",
    "\tintraday_feature_trend_viz,\n",
    "\tintraday_rvol_viz,\n",
    ")\n"
   ]
  },
  {
   "cell_type": "code",
   "execution_count": 2,
   "id": "a6dbe7dc",
   "metadata": {},
   "outputs": [],
   "source": [
    "intraday_rolling_window = config.intraday_rolling_window\n",
    "stock_ticker = config.stock_ticker"
   ]
  },
  {
   "cell_type": "code",
   "execution_count": 3,
   "id": "fc7ffc4b",
   "metadata": {},
   "outputs": [],
   "source": [
    "## default config 1 month intraday data\n",
    "df_rth = intraday_read_csv_correct_time(config.INTRADAY_FILEPATH)\n",
    "intraday_volume_df = intraday_feature_trend(df_rth, \"volume\",intraday_rolling_window)\n",
    "intraday_expected_cum_rvol_df = intraday_expected_cum_rvol(df_rth, intraday_rolling_window)\n",
    "intraday_rvol_df = intraday_rvol(df_rth, intraday_expected_cum_rvol_df, intraday_rolling_window)"
   ]
  },
  {
   "cell_type": "code",
   "execution_count": 4,
   "id": "26c6c640",
   "metadata": {},
   "outputs": [
    {
     "data": {
      "application/vnd.microsoft.datawrangler.viewer.v0+json": {
       "columns": [
        {
         "name": "date",
         "rawType": "datetime64[ns]",
         "type": "datetime"
        },
        {
         "name": "close",
         "rawType": "float64",
         "type": "float"
        },
        {
         "name": "volume",
         "rawType": "float64",
         "type": "float"
        }
       ],
       "ref": "db169aba-e4ac-40cc-832b-6efd061c2e04",
       "rows": [
        [
         "2025-08-07 10:00:00",
         "153.5001",
         "2361682.0"
        ],
        [
         "2025-08-07 11:00:00",
         "151.915",
         "1588514.0"
        ],
        [
         "2025-08-07 12:00:00",
         "152.11",
         "1163869.0"
        ],
        [
         "2025-08-07 13:00:00",
         "153.16",
         "576608.0"
        ],
        [
         "2025-08-07 14:00:00",
         "152.67",
         "558516.0"
        ],
        [
         "2025-08-07 15:00:00",
         "153.07",
         "1157868.0"
        ],
        [
         "2025-08-07 16:00:00",
         "153.04",
         "1317457.0"
        ],
        [
         "2025-08-08 10:00:00",
         "158.745",
         "2728062.0"
        ],
        [
         "2025-08-08 11:00:00",
         "158.6",
         "1120427.0"
        ],
        [
         "2025-08-08 12:00:00",
         "157.18",
         "704187.0"
        ],
        [
         "2025-08-08 13:00:00",
         "157.65",
         "524353.0"
        ],
        [
         "2025-08-08 14:00:00",
         "158.305",
         "435307.0"
        ],
        [
         "2025-08-08 15:00:00",
         "159.14",
         "980525.0"
        ],
        [
         "2025-08-08 16:00:00",
         "158.9981",
         "666513.0"
        ],
        [
         "2025-08-11 10:00:00",
         "165.5102",
         "2776510.0"
        ],
        [
         "2025-08-11 11:00:00",
         "165.555",
         "1167062.0"
        ],
        [
         "2025-08-11 12:00:00",
         "164.0725",
         "1271287.0"
        ],
        [
         "2025-08-11 13:00:00",
         "161.7508",
         "1006584.0"
        ],
        [
         "2025-08-11 14:00:00",
         "161.1784",
         "592829.0"
        ],
        [
         "2025-08-11 15:00:00",
         "161.44",
         "1582646.0"
        ],
        [
         "2025-08-11 16:00:00",
         "161.97",
         "810812.0"
        ],
        [
         "2025-08-12 10:00:00",
         "174.5847",
         "6473963.0"
        ],
        [
         "2025-08-12 11:00:00",
         "169.64",
         "2425210.0"
        ],
        [
         "2025-08-12 12:00:00",
         "166.1645",
         "2933281.0"
        ],
        [
         "2025-08-12 13:00:00",
         "162.2796",
         "1986848.0"
        ],
        [
         "2025-08-12 14:00:00",
         "165.22",
         "1528561.0"
        ],
        [
         "2025-08-12 15:00:00",
         "163.16",
         "2009551.0"
        ],
        [
         "2025-08-12 16:00:00",
         "153.43",
         "2147694.0"
        ],
        [
         "2025-08-13 10:00:00",
         "155.32",
         "3396431.0"
        ],
        [
         "2025-08-13 11:00:00",
         "157.46",
         "1968044.0"
        ],
        [
         "2025-08-13 12:00:00",
         "155.82",
         "1299526.0"
        ],
        [
         "2025-08-13 13:00:00",
         "153.97",
         "1634558.0"
        ],
        [
         "2025-08-13 14:00:00",
         "153.625",
         "1305036.0"
        ],
        [
         "2025-08-13 15:00:00",
         "153.16",
         "1421112.0"
        ],
        [
         "2025-08-13 16:00:00",
         "153.62",
         "978015.0"
        ],
        [
         "2025-08-14 10:00:00",
         "142.7724",
         "3784171.0"
        ],
        [
         "2025-08-14 11:00:00",
         "144.741",
         "1967424.0"
        ],
        [
         "2025-08-14 12:00:00",
         "144.4828",
         "958890.0"
        ],
        [
         "2025-08-14 13:00:00",
         "146.3",
         "852256.0"
        ],
        [
         "2025-08-14 14:00:00",
         "140.34",
         "1716822.0"
        ],
        [
         "2025-08-14 15:00:00",
         "139.255",
         "4685406.0"
        ],
        [
         "2025-08-14 16:00:00",
         "138.62",
         "1030742.0"
        ],
        [
         "2025-08-15 10:00:00",
         "141.335",
         "2697220.0"
        ],
        [
         "2025-08-15 11:00:00",
         "146.78",
         "2927013.0"
        ],
        [
         "2025-08-15 12:00:00",
         "149.78",
         "2626966.0"
        ],
        [
         "2025-08-15 13:00:00",
         "149.34",
         "1502946.0"
        ],
        [
         "2025-08-15 14:00:00",
         "149.74",
         "1120055.0"
        ],
        [
         "2025-08-15 15:00:00",
         "149.4",
         "2788349.0"
        ],
        [
         "2025-08-15 16:00:00",
         "149.4",
         "3849732.0"
        ],
        [
         "2025-08-18 10:00:00",
         "147.15",
         "1169213.0"
        ]
       ],
       "shape": {
        "columns": 2,
        "rows": 147
       }
      },
      "text/html": [
       "<div>\n",
       "<style scoped>\n",
       "    .dataframe tbody tr th:only-of-type {\n",
       "        vertical-align: middle;\n",
       "    }\n",
       "\n",
       "    .dataframe tbody tr th {\n",
       "        vertical-align: top;\n",
       "    }\n",
       "\n",
       "    .dataframe thead th {\n",
       "        text-align: right;\n",
       "    }\n",
       "</style>\n",
       "<table border=\"1\" class=\"dataframe\">\n",
       "  <thead>\n",
       "    <tr style=\"text-align: right;\">\n",
       "      <th></th>\n",
       "      <th>close</th>\n",
       "      <th>volume</th>\n",
       "    </tr>\n",
       "    <tr>\n",
       "      <th>date</th>\n",
       "      <th></th>\n",
       "      <th></th>\n",
       "    </tr>\n",
       "  </thead>\n",
       "  <tbody>\n",
       "    <tr>\n",
       "      <th>2025-08-07 10:00:00</th>\n",
       "      <td>153.5001</td>\n",
       "      <td>2361682.0</td>\n",
       "    </tr>\n",
       "    <tr>\n",
       "      <th>2025-08-07 11:00:00</th>\n",
       "      <td>151.9150</td>\n",
       "      <td>1588514.0</td>\n",
       "    </tr>\n",
       "    <tr>\n",
       "      <th>2025-08-07 12:00:00</th>\n",
       "      <td>152.1100</td>\n",
       "      <td>1163869.0</td>\n",
       "    </tr>\n",
       "    <tr>\n",
       "      <th>2025-08-07 13:00:00</th>\n",
       "      <td>153.1600</td>\n",
       "      <td>576608.0</td>\n",
       "    </tr>\n",
       "    <tr>\n",
       "      <th>2025-08-07 14:00:00</th>\n",
       "      <td>152.6700</td>\n",
       "      <td>558516.0</td>\n",
       "    </tr>\n",
       "    <tr>\n",
       "      <th>...</th>\n",
       "      <td>...</td>\n",
       "      <td>...</td>\n",
       "    </tr>\n",
       "    <tr>\n",
       "      <th>2025-09-05 12:00:00</th>\n",
       "      <td>110.7400</td>\n",
       "      <td>805913.0</td>\n",
       "    </tr>\n",
       "    <tr>\n",
       "      <th>2025-09-05 13:00:00</th>\n",
       "      <td>112.2950</td>\n",
       "      <td>806046.0</td>\n",
       "    </tr>\n",
       "    <tr>\n",
       "      <th>2025-09-05 14:00:00</th>\n",
       "      <td>114.2000</td>\n",
       "      <td>871444.0</td>\n",
       "    </tr>\n",
       "    <tr>\n",
       "      <th>2025-09-05 15:00:00</th>\n",
       "      <td>114.5100</td>\n",
       "      <td>1097604.0</td>\n",
       "    </tr>\n",
       "    <tr>\n",
       "      <th>2025-09-05 16:00:00</th>\n",
       "      <td>114.1600</td>\n",
       "      <td>1117730.0</td>\n",
       "    </tr>\n",
       "  </tbody>\n",
       "</table>\n",
       "<p>147 rows × 2 columns</p>\n",
       "</div>"
      ],
      "text/plain": [
       "                        close     volume\n",
       "date                                    \n",
       "2025-08-07 10:00:00  153.5001  2361682.0\n",
       "2025-08-07 11:00:00  151.9150  1588514.0\n",
       "2025-08-07 12:00:00  152.1100  1163869.0\n",
       "2025-08-07 13:00:00  153.1600   576608.0\n",
       "2025-08-07 14:00:00  152.6700   558516.0\n",
       "...                       ...        ...\n",
       "2025-09-05 12:00:00  110.7400   805913.0\n",
       "2025-09-05 13:00:00  112.2950   806046.0\n",
       "2025-09-05 14:00:00  114.2000   871444.0\n",
       "2025-09-05 15:00:00  114.5100  1097604.0\n",
       "2025-09-05 16:00:00  114.1600  1117730.0\n",
       "\n",
       "[147 rows x 2 columns]"
      ]
     },
     "execution_count": 4,
     "metadata": {},
     "output_type": "execute_result"
    }
   ],
   "source": [
    "df_rth"
   ]
  },
  {
   "cell_type": "code",
   "execution_count": 5,
   "id": "02216829",
   "metadata": {},
   "outputs": [
    {
     "data": {
      "application/vnd.microsoft.datawrangler.viewer.v0+json": {
       "columns": [
        {
         "name": "index",
         "rawType": "object",
         "type": "unknown"
        },
        {
         "name": "Average Volume",
         "rawType": "float64",
         "type": "float"
        }
       ],
       "ref": "016f801e-746b-4d81-aa80-51caf6bfe358",
       "rows": [
        [
         "10:00:00",
         "2127669.0"
        ],
        [
         "11:00:00",
         "1520142.4"
        ],
        [
         "12:00:00",
         "875165.8"
        ],
        [
         "13:00:00",
         "787816.0"
        ],
        [
         "14:00:00",
         "702290.2"
        ],
        [
         "15:00:00",
         "1191416.0"
        ],
        [
         "16:00:00",
         "795450.0"
        ]
       ],
       "shape": {
        "columns": 1,
        "rows": 7
       }
      },
      "text/plain": [
       "10:00:00    2127669.0\n",
       "11:00:00    1520142.4\n",
       "12:00:00     875165.8\n",
       "13:00:00     787816.0\n",
       "14:00:00     702290.2\n",
       "15:00:00    1191416.0\n",
       "16:00:00     795450.0\n",
       "Name: Average Volume, dtype: float64"
      ]
     },
     "execution_count": 5,
     "metadata": {},
     "output_type": "execute_result"
    }
   ],
   "source": [
    "intraday_volume_df"
   ]
  },
  {
   "cell_type": "code",
   "execution_count": 6,
   "id": "fc2bf882",
   "metadata": {},
   "outputs": [
    {
     "data": {
      "image/png": "[encoded data removed]",
      "text/plain": [
       "<Figure size 1200x600 with 1 Axes>"
      ]
     },
     "metadata": {},
     "output_type": "display_data"
    }
   ],
   "source": [
    "intraday_feature_trend_viz(intraday_volume_df)"
   ]
  },
  {
   "cell_type": "code",
   "execution_count": 7,
   "id": "9752ea3d",
   "metadata": {},
   "outputs": [
    {
     "data": {
      "application/vnd.microsoft.datawrangler.viewer.v0+json": {
       "columns": [
        {
         "name": "date",
         "rawType": "datetime64[ns]",
         "type": "datetime"
        },
        {
         "name": "close",
         "rawType": "float64",
         "type": "float"
        },
        {
         "name": "volume",
         "rawType": "float64",
         "type": "float"
        },
        {
         "name": "CumVolume",
         "rawType": "float64",
         "type": "float"
        },
        {
         "name": "Expected_Cumulative_Volume",
         "rawType": "float64",
         "type": "float"
        },
        {
         "name": "Intraday_RVOL_cum",
         "rawType": "float64",
         "type": "float"
        }
       ],
       "ref": "72f41651-ff9f-4768-89f7-98a98a0c9ee1",
       "rows": [
        [
         "2025-08-07 10:00:00",
         "153.5001",
         "2361682.0",
         "2361682.0",
         null,
         null
        ],
        [
         "2025-08-07 11:00:00",
         "151.915",
         "1588514.0",
         "3950196.0",
         null,
         null
        ],
        [
         "2025-08-07 12:00:00",
         "152.11",
         "1163869.0",
         "5114065.0",
         null,
         null
        ],
        [
         "2025-08-07 13:00:00",
         "153.16",
         "576608.0",
         "5690673.0",
         null,
         null
        ],
        [
         "2025-08-07 14:00:00",
         "152.67",
         "558516.0",
         "6249189.0",
         null,
         null
        ],
        [
         "2025-08-07 15:00:00",
         "153.07",
         "1157868.0",
         "7407057.0",
         null,
         null
        ],
        [
         "2025-08-07 16:00:00",
         "153.04",
         "1317457.0",
         "8724514.0",
         null,
         null
        ],
        [
         "2025-08-08 10:00:00",
         "158.745",
         "2728062.0",
         "2728062.0",
         null,
         null
        ],
        [
         "2025-08-08 11:00:00",
         "158.6",
         "1120427.0",
         "3848489.0",
         null,
         null
        ],
        [
         "2025-08-08 12:00:00",
         "157.18",
         "704187.0",
         "4552676.0",
         null,
         null
        ],
        [
         "2025-08-08 13:00:00",
         "157.65",
         "524353.0",
         "5077029.0",
         null,
         null
        ],
        [
         "2025-08-08 14:00:00",
         "158.305",
         "435307.0",
         "5512336.0",
         null,
         null
        ],
        [
         "2025-08-08 15:00:00",
         "159.14",
         "980525.0",
         "6492861.0",
         null,
         null
        ],
        [
         "2025-08-08 16:00:00",
         "158.9981",
         "666513.0",
         "7159374.0",
         null,
         null
        ],
        [
         "2025-08-11 10:00:00",
         "165.5102",
         "2776510.0",
         "2776510.0",
         null,
         null
        ],
        [
         "2025-08-11 11:00:00",
         "165.555",
         "1167062.0",
         "3943572.0",
         null,
         null
        ],
        [
         "2025-08-11 12:00:00",
         "164.0725",
         "1271287.0",
         "5214859.0",
         null,
         null
        ],
        [
         "2025-08-11 13:00:00",
         "161.7508",
         "1006584.0",
         "6221443.0",
         null,
         null
        ],
        [
         "2025-08-11 14:00:00",
         "161.1784",
         "592829.0",
         "6814272.0",
         null,
         null
        ],
        [
         "2025-08-11 15:00:00",
         "161.44",
         "1582646.0",
         "8396918.0",
         null,
         null
        ],
        [
         "2025-08-11 16:00:00",
         "161.97",
         "810812.0",
         "9207730.0",
         null,
         null
        ],
        [
         "2025-08-12 10:00:00",
         "174.5847",
         "6473963.0",
         "6473963.0",
         null,
         null
        ],
        [
         "2025-08-12 11:00:00",
         "169.64",
         "2425210.0",
         "8899173.0",
         null,
         null
        ],
        [
         "2025-08-12 12:00:00",
         "166.1645",
         "2933281.0",
         "11832454.0",
         null,
         null
        ],
        [
         "2025-08-12 13:00:00",
         "162.2796",
         "1986848.0",
         "13819302.0",
         null,
         null
        ],
        [
         "2025-08-12 14:00:00",
         "165.22",
         "1528561.0",
         "15347863.0",
         null,
         null
        ],
        [
         "2025-08-12 15:00:00",
         "163.16",
         "2009551.0",
         "17357414.0",
         null,
         null
        ],
        [
         "2025-08-12 16:00:00",
         "153.43",
         "2147694.0",
         "19505108.0",
         null,
         null
        ],
        [
         "2025-08-13 10:00:00",
         "155.32",
         "3396431.0",
         "3396431.0",
         null,
         null
        ],
        [
         "2025-08-13 11:00:00",
         "157.46",
         "1968044.0",
         "5364475.0",
         null,
         null
        ],
        [
         "2025-08-13 12:00:00",
         "155.82",
         "1299526.0",
         "6664001.0",
         null,
         null
        ],
        [
         "2025-08-13 13:00:00",
         "153.97",
         "1634558.0",
         "8298559.0",
         null,
         null
        ],
        [
         "2025-08-13 14:00:00",
         "153.625",
         "1305036.0",
         "9603595.0",
         null,
         null
        ],
        [
         "2025-08-13 15:00:00",
         "153.16",
         "1421112.0",
         "11024707.0",
         null,
         null
        ],
        [
         "2025-08-13 16:00:00",
         "153.62",
         "978015.0",
         "12002722.0",
         null,
         null
        ],
        [
         "2025-08-14 10:00:00",
         "142.7724",
         "3784171.0",
         "3784171.0",
         "3547329.6",
         "1.0667661104849124"
        ],
        [
         "2025-08-14 11:00:00",
         "144.741",
         "1967424.0",
         "5751595.0",
         "5201181.0",
         "1.1058248117110325"
        ],
        [
         "2025-08-14 12:00:00",
         "144.4828",
         "958890.0",
         "6710485.0",
         "6675611.0",
         "1.0052240910981782"
        ],
        [
         "2025-08-14 13:00:00",
         "146.3",
         "852256.0",
         "7562741.0",
         "7821401.2",
         "0.9669291737649259"
        ],
        [
         "2025-08-14 14:00:00",
         "140.34",
         "1716822.0",
         "9279563.0",
         "8705451.0",
         "1.0659485648704472"
        ],
        [
         "2025-08-14 15:00:00",
         "139.255",
         "4685406.0",
         "13964969.0",
         "10135791.4",
         "1.3777877275572186"
        ],
        [
         "2025-08-14 16:00:00",
         "138.62",
         "1030742.0",
         "14995711.0",
         "11319889.6",
         "1.3247223718506937"
        ],
        [
         "2025-08-15 10:00:00",
         "141.335",
         "2697220.0",
         "2697220.0",
         "3831827.4",
         "0.7038991370018389"
        ],
        [
         "2025-08-15 11:00:00",
         "146.78",
         "2927013.0",
         "5624233.0",
         "5561460.8",
         "1.0112869985526105"
        ],
        [
         "2025-08-15 12:00:00",
         "149.78",
         "2626966.0",
         "8251199.0",
         "6994895.0",
         "1.1796029818889346"
        ],
        [
         "2025-08-15 13:00:00",
         "149.34",
         "1502946.0",
         "9754145.0",
         "8195814.8",
         "1.190137312521996"
        ],
        [
         "2025-08-15 14:00:00",
         "149.74",
         "1120055.0",
         "10874200.0",
         "9311525.8",
         "1.1678214970955672"
        ],
        [
         "2025-08-15 15:00:00",
         "149.4",
         "2788349.0",
         "13662549.0",
         "11447373.8",
         "1.1935094667739425"
        ],
        [
         "2025-08-15 16:00:00",
         "149.4",
         "3849732.0",
         "17512281.0",
         "12574129.0",
         "1.3927231858365696"
        ],
        [
         "2025-08-18 10:00:00",
         "147.15",
         "1169213.0",
         "1169213.0",
         "3825659.0",
         "0.30562394609660715"
        ]
       ],
       "shape": {
        "columns": 5,
        "rows": 147
       }
      },
      "text/html": [
       "<div>\n",
       "<style scoped>\n",
       "    .dataframe tbody tr th:only-of-type {\n",
       "        vertical-align: middle;\n",
       "    }\n",
       "\n",
       "    .dataframe tbody tr th {\n",
       "        vertical-align: top;\n",
       "    }\n",
       "\n",
       "    .dataframe thead th {\n",
       "        text-align: right;\n",
       "    }\n",
       "</style>\n",
       "<table border=\"1\" class=\"dataframe\">\n",
       "  <thead>\n",
       "    <tr style=\"text-align: right;\">\n",
       "      <th></th>\n",
       "      <th>close</th>\n",
       "      <th>volume</th>\n",
       "      <th>CumVolume</th>\n",
       "      <th>Expected_Cumulative_Volume</th>\n",
       "      <th>Intraday_RVOL_cum</th>\n",
       "    </tr>\n",
       "    <tr>\n",
       "      <th>date</th>\n",
       "      <th></th>\n",
       "      <th></th>\n",
       "      <th></th>\n",
       "      <th></th>\n",
       "      <th></th>\n",
       "    </tr>\n",
       "  </thead>\n",
       "  <tbody>\n",
       "    <tr>\n",
       "      <th>2025-08-07 10:00:00</th>\n",
       "      <td>153.5001</td>\n",
       "      <td>2361682.0</td>\n",
       "      <td>2361682.0</td>\n",
       "      <td>NaN</td>\n",
       "      <td>NaN</td>\n",
       "    </tr>\n",
       "    <tr>\n",
       "      <th>2025-08-07 11:00:00</th>\n",
       "      <td>151.9150</td>\n",
       "      <td>1588514.0</td>\n",
       "      <td>3950196.0</td>\n",
       "      <td>NaN</td>\n",
       "      <td>NaN</td>\n",
       "    </tr>\n",
       "    <tr>\n",
       "      <th>2025-08-07 12:00:00</th>\n",
       "      <td>152.1100</td>\n",
       "      <td>1163869.0</td>\n",
       "      <td>5114065.0</td>\n",
       "      <td>NaN</td>\n",
       "      <td>NaN</td>\n",
       "    </tr>\n",
       "    <tr>\n",
       "      <th>2025-08-07 13:00:00</th>\n",
       "      <td>153.1600</td>\n",
       "      <td>576608.0</td>\n",
       "      <td>5690673.0</td>\n",
       "      <td>NaN</td>\n",
       "      <td>NaN</td>\n",
       "    </tr>\n",
       "    <tr>\n",
       "      <th>2025-08-07 14:00:00</th>\n",
       "      <td>152.6700</td>\n",
       "      <td>558516.0</td>\n",
       "      <td>6249189.0</td>\n",
       "      <td>NaN</td>\n",
       "      <td>NaN</td>\n",
       "    </tr>\n",
       "    <tr>\n",
       "      <th>...</th>\n",
       "      <td>...</td>\n",
       "      <td>...</td>\n",
       "      <td>...</td>\n",
       "      <td>...</td>\n",
       "      <td>...</td>\n",
       "    </tr>\n",
       "    <tr>\n",
       "      <th>2025-09-05 12:00:00</th>\n",
       "      <td>110.7400</td>\n",
       "      <td>805913.0</td>\n",
       "      <td>6337884.0</td>\n",
       "      <td>3757578.4</td>\n",
       "      <td>1.686694</td>\n",
       "    </tr>\n",
       "    <tr>\n",
       "      <th>2025-09-05 13:00:00</th>\n",
       "      <td>112.2950</td>\n",
       "      <td>806046.0</td>\n",
       "      <td>7143930.0</td>\n",
       "      <td>4447879.4</td>\n",
       "      <td>1.606143</td>\n",
       "    </tr>\n",
       "    <tr>\n",
       "      <th>2025-09-05 14:00:00</th>\n",
       "      <td>114.2000</td>\n",
       "      <td>871444.0</td>\n",
       "      <td>8015374.0</td>\n",
       "      <td>5052476.2</td>\n",
       "      <td>1.586425</td>\n",
       "    </tr>\n",
       "    <tr>\n",
       "      <th>2025-09-05 15:00:00</th>\n",
       "      <td>114.5100</td>\n",
       "      <td>1097604.0</td>\n",
       "      <td>9112978.0</td>\n",
       "      <td>6209531.6</td>\n",
       "      <td>1.467579</td>\n",
       "    </tr>\n",
       "    <tr>\n",
       "      <th>2025-09-05 16:00:00</th>\n",
       "      <td>114.1600</td>\n",
       "      <td>1117730.0</td>\n",
       "      <td>10230708.0</td>\n",
       "      <td>6868078.4</td>\n",
       "      <td>1.489603</td>\n",
       "    </tr>\n",
       "  </tbody>\n",
       "</table>\n",
       "<p>147 rows × 5 columns</p>\n",
       "</div>"
      ],
      "text/plain": [
       "                        close     volume   CumVolume  \\\n",
       "date                                                   \n",
       "2025-08-07 10:00:00  153.5001  2361682.0   2361682.0   \n",
       "2025-08-07 11:00:00  151.9150  1588514.0   3950196.0   \n",
       "2025-08-07 12:00:00  152.1100  1163869.0   5114065.0   \n",
       "2025-08-07 13:00:00  153.1600   576608.0   5690673.0   \n",
       "2025-08-07 14:00:00  152.6700   558516.0   6249189.0   \n",
       "...                       ...        ...         ...   \n",
       "2025-09-05 12:00:00  110.7400   805913.0   6337884.0   \n",
       "2025-09-05 13:00:00  112.2950   806046.0   7143930.0   \n",
       "2025-09-05 14:00:00  114.2000   871444.0   8015374.0   \n",
       "2025-09-05 15:00:00  114.5100  1097604.0   9112978.0   \n",
       "2025-09-05 16:00:00  114.1600  1117730.0  10230708.0   \n",
       "\n",
       "                     Expected_Cumulative_Volume  Intraday_RVOL_cum  \n",
       "date                                                                \n",
       "2025-08-07 10:00:00                         NaN                NaN  \n",
       "2025-08-07 11:00:00                         NaN                NaN  \n",
       "2025-08-07 12:00:00                         NaN                NaN  \n",
       "2025-08-07 13:00:00                         NaN                NaN  \n",
       "2025-08-07 14:00:00                         NaN                NaN  \n",
       "...                                         ...                ...  \n",
       "2025-09-05 12:00:00                   3757578.4           1.686694  \n",
       "2025-09-05 13:00:00                   4447879.4           1.606143  \n",
       "2025-09-05 14:00:00                   5052476.2           1.586425  \n",
       "2025-09-05 15:00:00                   6209531.6           1.467579  \n",
       "2025-09-05 16:00:00                   6868078.4           1.489603  \n",
       "\n",
       "[147 rows x 5 columns]"
      ]
     },
     "execution_count": 7,
     "metadata": {},
     "output_type": "execute_result"
    }
   ],
   "source": [
    "intraday_rvol_df"
   ]
  },
  {
   "cell_type": "code",
   "execution_count": 8,
   "id": "434e835a",
   "metadata": {},
   "outputs": [
    {
     "data": {
      "image/png": "[encoded data removed]",
      "text/plain": [
       "<Figure size 2000x1000 with 1 Axes>"
      ]
     },
     "metadata": {},
     "output_type": "display_data"
    }
   ],
   "source": [
    "intraday_rvol_viz(intraday_rvol_df, 5)"
   ]
  },
  {
   "cell_type": "code",
   "execution_count": null,
   "id": "a1925567",
   "metadata": {},
   "outputs": [],
   "source": []
  }
 ],
 "metadata": {
  "kernelspec": {
   "display_name": "py310",
   "language": "python",
   "name": "python3"
  },
  "language_info": {
   "codemirror_mode": {
    "name": "ipython",
    "version": 3
   },
   "file_extension": ".py",
   "mimetype": "text/x-python",
   "name": "python",
   "nbconvert_exporter": "python",
   "pygments_lexer": "ipython3",
   "version": "3.10.13"
  }
 },
 "nbformat": 4,
 "nbformat_minor": 5
}
