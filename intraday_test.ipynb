{
 "cells": [
  {
   "cell_type": "code",
   "execution_count": 1,
   "id": "049799f7",
   "metadata": {},
   "outputs": [],
   "source": [
    "import pandas as pd\n",
    "import numpy as np\n",
    "import matplotlib.pyplot as plt\n",
    "import matplotlib.cm as cm\n",
    "import matplotlib.colors as mcolors\n",
    "import config\n",
    "\n",
    "from intraday_handler import (\n",
    "\tintraday_read_csv_correct_time,\n",
    "\tintraday_feature_trend,\n",
    "\tintraday_expected_cum_rvol,\n",
    "\tintraday_rvol\n",
    ")\n"
   ]
  },
  {
   "cell_type": "code",
   "execution_count": 2,
   "id": "a6dbe7dc",
   "metadata": {},
   "outputs": [],
   "source": [
    "look_back_days_hourly = config.look_back_days_hourly"
   ]
  },
  {
   "cell_type": "code",
   "execution_count": 7,
   "id": "fc7ffc4b",
   "metadata": {},
   "outputs": [],
   "source": [
    "## default config 1 month intraday data\n",
    "df_rth = intraday_read_csv_correct_time(config.INTRADAY_FILEPATH)\n",
    "intraday_volume_df = intraday_feature_trend(df_rth, \"volume\",look_back_days_hourly)\n",
    "intraday_expected_cum_rvol_df = intraday_expected_cum_rvol(df_rth, look_back_days_hourly)\n",
    "intraday_rvol_df = intraday_rvol(df_rth, intraday_expected_cum_rvol_df, look_back_days_hourly)"
   ]
  },
  {
   "cell_type": "code",
   "execution_count": null,
   "id": "02216829",
   "metadata": {},
   "outputs": [],
   "source": []
  }
 ],
 "metadata": {
  "kernelspec": {
   "display_name": "py310",
   "language": "python",
   "name": "python3"
  },
  "language_info": {
   "codemirror_mode": {
    "name": "ipython",
    "version": 3
   },
   "file_extension": ".py",
   "mimetype": "text/x-python",
   "name": "python",
   "nbconvert_exporter": "python",
   "pygments_lexer": "ipython3",
   "version": "3.10.13"
  }
 },
 "nbformat": 4,
 "nbformat_minor": 5
}
