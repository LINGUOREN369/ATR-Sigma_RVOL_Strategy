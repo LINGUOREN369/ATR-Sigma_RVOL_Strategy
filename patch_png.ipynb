{
 "cells": [
  {
   "cell_type": "code",
   "execution_count": 1,
   "id": "f8e6b9a2",
   "metadata": {},
   "outputs": [
    {
     "name": "stdout",
     "output_type": "stream",
     "text": [
      "✔ Saved report/VOO/VOO_daily_atr_30-60-90.png\n",
      "✔ Saved report/VOO/VOO_daily_close_30-60-90.png\n"
     ]
    },
    {
     "name": "stdout",
     "output_type": "stream",
     "text": [
      "✔ Saved report/VOO/VOO_daily_rvol_30-60-90.png\n",
      "✔ Saved report/VOO/VOO_daily_volume_30-60-90.png\n"
     ]
    }
   ],
   "source": [
    "# stitch_daily_periods_vertical.py\n",
    "from pathlib import Path\n",
    "import re\n",
    "from PIL import Image\n",
    "import config\n",
    "\n",
    "TICKER = getattr(config, \"STOCK_TICKER\", \"VOO\")\n",
    "FIG_DIR = Path(getattr(config, \"FIGURE_PATH\", \"./stock_image/\"))\n",
    "\n",
    "# Match files like: VOO_daily_close_30.png\n",
    "PATTERN = re.compile(rf\"^{re.escape(TICKER)}_(daily_[a-z0-9_]+)_(\\d+)\\.png$\", re.IGNORECASE)\n",
    "\n",
    "def discover_daily_images():\n",
    "    \"\"\"Return { base -> { period:int -> Path } }.\"\"\"\n",
    "    groups = {}\n",
    "    for p in FIG_DIR.glob(\"*.png\"):\n",
    "        m = PATTERN.match(p.name)\n",
    "        if not m:\n",
    "            continue\n",
    "        base = m.group(1).lower()\n",
    "        period = int(m.group(2))\n",
    "        groups.setdefault(base, {})[period] = p\n",
    "    return groups\n",
    "\n",
    "def stitch_vertical(paths):\n",
    "    \"\"\"Stack images vertically; resize to same width for alignment.\"\"\"\n",
    "    imgs = [Image.open(p) for p in paths]\n",
    "    min_w = min(im.width for im in imgs)\n",
    "    resized = []\n",
    "    for im in imgs:\n",
    "        if im.width != min_w:\n",
    "            new_h = int(im.height * (min_w / im.width))\n",
    "            im = im.resize((min_w, new_h), Image.BICUBIC)\n",
    "        resized.append(im)\n",
    "    total_h = sum(im.height for im in resized)\n",
    "    out = Image.new(\"RGB\", (min_w, total_h), \"white\")\n",
    "    y = 0\n",
    "    for im in resized:\n",
    "        out.paste(im, (0, y))\n",
    "        y += im.height\n",
    "    return out\n",
    "\n",
    "def main():\n",
    "    FIG_DIR.mkdir(parents=True, exist_ok=True)\n",
    "    groups = discover_daily_images()\n",
    "    if not groups:\n",
    "        print(\"No matching daily images found.\")\n",
    "        return\n",
    "\n",
    "    for base, period_map in groups.items():\n",
    "        periods = sorted(period_map.keys())\n",
    "        if len(periods) < 2:\n",
    "            continue  # skip if only one period exists\n",
    "        paths = [period_map[p] for p in periods]\n",
    "        combined = stitch_vertical(paths)\n",
    "        suffix = \"-\".join(str(p) for p in periods)\n",
    "        out_name = f\"{TICKER}_{base}_{suffix}.png\"\n",
    "        save_path = Path(config.REPORT_PATH)\n",
    "        save_path.mkdir(parents=True, exist_ok=True)\n",
    "        out_path = save_path / out_name\n",
    "        combined.save(out_path)\n",
    "        print(f\"✔ Saved {out_path}\")\n",
    "\n",
    "if __name__ == \"__main__\":\n",
    "    main()"
   ]
  },
  {
   "cell_type": "code",
   "execution_count": null,
   "id": "0d6e5507",
   "metadata": {},
   "outputs": [],
   "source": []
  },
  {
   "cell_type": "code",
   "execution_count": null,
   "id": "1fd40c29",
   "metadata": {},
   "outputs": [],
   "source": []
  },
  {
   "cell_type": "code",
   "execution_count": null,
   "id": "2123e38a",
   "metadata": {},
   "outputs": [],
   "source": []
  }
 ],
 "metadata": {
  "kernelspec": {
   "display_name": "py310",
   "language": "python",
   "name": "python3"
  },
  "language_info": {
   "codemirror_mode": {
    "name": "ipython",
    "version": 3
   },
   "file_extension": ".py",
   "mimetype": "text/x-python",
   "name": "python",
   "nbconvert_exporter": "python",
   "pygments_lexer": "ipython3",
   "version": "3.10.13"
  }
 },
 "nbformat": 4,
 "nbformat_minor": 5
}
