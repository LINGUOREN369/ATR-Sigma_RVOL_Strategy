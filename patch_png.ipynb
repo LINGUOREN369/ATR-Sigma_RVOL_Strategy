{
 "cells": [
  {
   "cell_type": "code",
   "execution_count": null,
   "id": "f8e6b9a2",
   "metadata": {},
   "outputs": [
    {
     "name": "stdout",
     "output_type": "stream",
     "text": [
      "✔ Saved report/VOO/VOO_daily_atr_30-60-90.png\n",
      "✔ Saved report/VOO/VOO_daily_close_30-60-90.png\n",
      "✔ Saved report/VOO/VOO_daily_rvol_30-60-90.png\n",
      "✔ Saved report/VOO/VOO_daily_volume_30-60-90.png\n",
      "✔ Saved report/VOO/VOO_intraday_average_close_5-10-20.png\n",
      "✔ Saved report/VOO/VOO_intraday_average_volume_5-10-20.png\n",
      "✔ Saved report/VOO/VOO_intraday_rvol_last_10_days_with_lookback_5-10-20.png\n"
     ]
    }
   ],
   "source": [
    "\n",
    "\n",
    "def main():\n",
    "    FIG_DIR.mkdir(parents=True, exist_ok=True)\n",
    "\n",
    "    # Collect both daily and intraday groups\n",
    "    groups = discover_daily_images()\n",
    "    intra_groups = discover_intraday_images()\n",
    "    for k, v in intra_groups.items():\n",
    "        groups[k] = v\n",
    "\n",
    "    if not groups:\n",
    "        print(\"No matching daily or intraday images found.\")\n",
    "        return\n",
    "\n",
    "    # Stitch each base (e.g., daily_close, intraday_average_close, intraday_rvol_last_10_days_with_lookback)\n",
    "    for base, period_map in groups.items():\n",
    "        periods = sorted(period_map.keys())\n",
    "        if len(periods) < 2:\n",
    "            continue  # need at least two periods to stack\n",
    "        paths = [period_map[p] for p in periods]\n",
    "        combined = stitch_vertical(paths)\n",
    "        suffix = \"-\".join(str(p) for p in periods)\n",
    "        out_name = f\"{TICKER}_{base}_{suffix}.png\"\n",
    "        save_path = Path(getattr(config, \"REPORT_PATH\", f\"./report/{TICKER}/\"))\n",
    "        save_path.mkdir(parents=True, exist_ok=True)\n",
    "        out_path = save_path / out_name\n",
    "        combined.save(out_path)\n",
    "        print(f\"✔ Saved {out_path}\")\n",
    "\n",
    "if __name__ == \"__main__\":\n",
    "    main()"
   ]
  },
  {
   "cell_type": "code",
   "execution_count": null,
   "id": "0d6e5507",
   "metadata": {},
   "outputs": [],
   "source": []
  },
  {
   "cell_type": "code",
   "execution_count": null,
   "id": "1fd40c29",
   "metadata": {},
   "outputs": [],
   "source": []
  },
  {
   "cell_type": "code",
   "execution_count": null,
   "id": "2123e38a",
   "metadata": {},
   "outputs": [],
   "source": []
  }
 ],
 "metadata": {
  "kernelspec": {
   "display_name": "py310",
   "language": "python",
   "name": "python3"
  },
  "language_info": {
   "codemirror_mode": {
    "name": "ipython",
    "version": 3
   },
   "file_extension": ".py",
   "mimetype": "text/x-python",
   "name": "python",
   "nbconvert_exporter": "python",
   "pygments_lexer": "ipython3",
   "version": "3.10.13"
  }
 },
 "nbformat": 4,
 "nbformat_minor": 5
}
